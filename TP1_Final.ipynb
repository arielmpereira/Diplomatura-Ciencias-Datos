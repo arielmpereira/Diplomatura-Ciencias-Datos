{
  "nbformat": 4,
  "nbformat_minor": 0,
  "metadata": {
    "colab": {
      "provenance": [],
      "include_colab_link": true
    },
    "kernelspec": {
      "name": "python3",
      "display_name": "Python 3"
    },
    "language_info": {
      "name": "python"
    }
  },
  "cells": [
    {
      "cell_type": "markdown",
      "metadata": {
        "id": "view-in-github",
        "colab_type": "text"
      },
      "source": [
        "<a href=\"https://colab.research.google.com/github/arielmpereira/Diplomatura-Ciencias-Datos/blob/main/TP1_Final.ipynb\" target=\"_parent\"><img src=\"https://colab.research.google.com/assets/colab-badge.svg\" alt=\"Open In Colab\"/></a>"
      ]
    },
    {
      "cell_type": "markdown",
      "source": [
        "\n",
        "#**Diplomatura en Ciencia de Datos, Aprendizaje Automático y sus Aplicaciones**\n",
        "\n",
        "**Edición 2024**\n",
        "\n",
        "---\n",
        "## Trabajo práctico entregable - Parte 1\n",
        "\n",
        "### Importación de librerías"
      ],
      "metadata": {
        "id": "JgS1hKBPsAhr"
      }
    },
    {
      "cell_type": "code",
      "execution_count": null,
      "metadata": {
        "id": "YhENyzmGLsHi"
      },
      "outputs": [],
      "source": [
        "import io\n",
        "import matplotlib\n",
        "import matplotlib.pyplot as plt\n",
        "import numpy as np\n",
        "import pandas as pd\n",
        "import seaborn as sns\n",
        "\n",
        "sns.set_context('notebook')"
      ]
    },
    {
      "cell_type": "markdown",
      "source": [
        "\n",
        "## Ejercicio 1 - Análisis descriptivo\n",
        "\n",
        "Responder a la pregunta: **¿Cuáles son los lenguajes de programación asociados a los mejores salarios?**\n",
        "\n",
        "Para ello:\n",
        "1. Seleccionar las columnas relevantes para analizar.\n",
        "2. Seleccionar las filas relevantes para analizar. Esto incluye la eliminación de valores extremos y erróneos, pero también puede enfocar el análisis en una sub-población. Por ejemplo, se pueden limitar a personas con un salario mayor que 100000 pesos, o a las personas que trabajan sólo en \"Data Science\", pero deben justificar su elección y reformular la pregunta inicial de ser necesario.\n",
        "  * Obtener una lista de los lenguajes de programación más populares. Decidir cuántos y cuáles seleccionan para incluir en el análisis.\n",
        "  * Para cada una de las otras columnas del punto anterior, elegir los rangos o valores seleccionan para incluir en el análisis.\n",
        "3. Seleccionar métricas que ayuden a responder la pregunta, y los métodos para analizarlas. Elegir UNA de las siguientes opciones:\n",
        "  * Comparar las distribuciones de salario para cada lenguaje utilizando visualizaciones. Como la visualización es el producto final, debe ser clara y mostrar información relevante.\n",
        "  * Comparar medidas de estadística descriptiva sobre la distribución de salario para cada lenguaje. Sean creativos, la estadística descriptiva nos permite decir cosas como: \"el 10% de los mejores sueldos los ganan, en su mayoría, programadores que saben kotlin!\" (donde *mayoría* es un término medio engañoso que sólo significa más del 50%). Para comparar múltiples lenguajes, les recomendamos usar también visualizaciones.\n",
        "  * Comparar probabilidades. Por ejemplo: \"Si sabés Python o Java, tenés un 30% más de chances de ganar arriba de 100K\".\n",
        "\n",
        "Si lo consideran necesario, realicen varias iteraciones. Es decir, si encuentran que las distribuciones de los lenguajes de programación que seleccionaron inicialmente no son muy diferentes, pueden re-hacer el análisis usando sólo los lenguajes de programación que son diferentes.\n"
      ],
      "metadata": {
        "id": "-iCOo16wXnZK"
      }
    },
    {
      "cell_type": "markdown",
      "source": [
        "### Carga del dataset"
      ],
      "metadata": {
        "id": "hilyI5xuqJ8E"
      }
    },
    {
      "cell_type": "code",
      "source": [
        "url = 'https://raw.githubusercontent.com/DiploDatos/AnalisisyVisualizacion/master/sysarmy_survey_2023_processed.csv'\n",
        "raw_data = pd.read_csv(url)"
      ],
      "metadata": {
        "id": "HgOQ5gniqNza"
      },
      "execution_count": null,
      "outputs": []
    },
    {
      "cell_type": "markdown",
      "source": [
        "### Curación de los datos\n",
        "\n",
        "Dada la diversidad de sueldos por las distintas condiciones de contratación se decidió quedarse solamente con aquellos individuos que trabajen en dedicación **Full-Time** y con un contrato de planta permanente **Staff (planta permanente)**.\n",
        "\n",
        "Véase el **ejercicio 2** para un análisis más profundo de la desición de restringir el dataset."
      ],
      "metadata": {
        "id": "kT8DCNWOr5-7"
      }
    },
    {
      "cell_type": "code",
      "source": [
        "curated_data = raw_data.loc[(raw_data.work_dedication == \"Full-Time\") &\n",
        "                            (raw_data.work_contract_type == \"Staff (planta permanente)\")]"
      ],
      "metadata": {
        "id": "qJWgQVjOpuXE"
      },
      "execution_count": null,
      "outputs": []
    },
    {
      "cell_type": "markdown",
      "source": [
        "### Outliers\n",
        "\n",
        "Se requiere eliminar outliers superiores dada la presencia de sueldos altos que pueden entorpecer el análsisis y, además, pueden introducir información errónea. Para estos utilizamos el criterio del rango intercuartil.\n",
        "\n",
        "$$max = q3 + 1.5*iqr$$\n",
        "\n",
        "Es decir que se eliminan todos aquellos individios cuyos sueldos satisfacen\n",
        "$$sueldo > max$$\n",
        "\n",
        "Por otro lado se eliminan las entradas que poséan sueldos por debajo de **$300.000** por ser sueldos demasiado bajos y consideramos que pueden introducir error en la muestra."
      ],
      "metadata": {
        "id": "iZxwzQWBs3z0"
      }
    },
    {
      "cell_type": "code",
      "source": [
        "################ SUELDO NETO ###############\n",
        "# Cuartiles\n",
        "q3 = curated_data['salary_monthly_NETO'].quantile(75/100)\n",
        "q1 = curated_data['salary_monthly_NETO'].quantile(25/100)\n",
        "\n",
        "# Rango intercuartil\n",
        "iqr = q3 - q1\n",
        "\n",
        "# Umbral inferior de outliers superiores\n",
        "max= q3 + 1.5*iqr\n",
        "\n",
        "################ SUELDO BRUTO ################\n",
        "# Cuartiles\n",
        "q3 = curated_data['salary_monthly_BRUTO'].quantile(75/100)\n",
        "q1 = curated_data['salary_monthly_BRUTO'].quantile(25/100)\n",
        "\n",
        "# Rango intercuartil\n",
        "iqr = q3 - q1\n",
        "\n",
        "# Umbral inferior de outliers superiores\n",
        "max_b= q3 + 1.5*iqr\n",
        "\n",
        "# Aplica criterios de eliminación de outliers\n",
        "curated_data = curated_data.loc[(curated_data['salary_monthly_NETO'] < max) &\n",
        "                                (curated_data['salary_monthly_NETO'] > 100000) &\n",
        "                                (curated_data['salary_monthly_BRUTO'] < max_b) &\n",
        "                                (curated_data['salary_monthly_BRUTO'] > 100000)]\n",
        "\n"
      ],
      "metadata": {
        "id": "9GcdtrP3uKpr"
      },
      "execution_count": null,
      "outputs": []
    },
    {
      "cell_type": "markdown",
      "source": [
        "### Columnas de interes\n",
        "\n",
        "Para simplificar el análisis no se tienen en cuenta los sueldos en dólares ni los pagos extras.\n",
        "\n",
        "Y tomaremos las siguientes columnas de interes:\n",
        "\n",
        "> **salary_monthly_BRUTO** (*decimal*): El salario mensual bruto de la persona encuestada, es decir, antes de deducciones.\n",
        "\n",
        "> **salary_monthly_NETO** (*decimal*): El salario mensual neto de la persona encuestada, es decir, después de deducciones.\n",
        "\n",
        "> **profile_career** (string): La carrera o profesión de la persona encuestada.\n",
        "\n",
        "> **tools_programming_languages** (string): Lenguajes y herramientas de programación utilizados en la labor profesional.\n",
        "\n",
        "> **profile_studies_level_state** (*string*): El nivel educativo alcanzado por la persona encuestada.\n",
        "\n",
        "> **profile_age**(entero): La edad de la persona encuestada."
      ],
      "metadata": {
        "id": "hpMpg_ktuljI"
      }
    },
    {
      "cell_type": "code",
      "source": [
        "cols_interes = [\n",
        "    \"salary_monthly_BRUTO\",         #(decimal): El salario mensual bruto de la persona encuestada, es decir, antes de deducciones.\n",
        "    \"salary_monthly_NETO\",          #(decimal): El salario mensual neto de la persona encuestada, es decir, después de deducciones.\n",
        "    \"profile_career\",               #(string): La carrera o profesión de la persona encuestada.\n",
        "    \"tools_programming_languages\",  #(string): Lenguajes y herramientas de programación utilizados en la labor profesional.\n",
        "    \"profile_studies_level_state\",  #(string): El nivel educativo alcanzado por la persona encuestada.\n",
        "    \"profile_age\"                   #(entero): La edad de la persona encuestada.\n",
        "              ]\n",
        "\n",
        "################ DESCARTE DE COLUMNAS ###############\n",
        "curated_data = curated_data[cols_interes]\n",
        "print(curated_data.describe())\n",
        "\n",
        "curated_data.head(4)"
      ],
      "metadata": {
        "colab": {
          "base_uri": "https://localhost:8080/",
          "height": 339
        },
        "id": "JelA-KRE-Ql9",
        "outputId": "13ca8f16-ed24-4317-ff49-e075ee249086"
      },
      "execution_count": null,
      "outputs": [
        {
          "output_type": "stream",
          "name": "stdout",
          "text": [
            "       salary_monthly_BRUTO  salary_monthly_NETO  profile_age\n",
            "count          3.554000e+03          3554.000000  3554.000000\n",
            "mean           5.631544e+05        433201.084922    34.506190\n",
            "std            2.790888e+05        182369.952813    10.542802\n",
            "min            1.010000e+05        100545.000000    18.000000\n",
            "25%            3.480152e+05        297250.000000    28.000000\n",
            "50%            5.000000e+05        412000.000000    33.000000\n",
            "75%            7.405512e+05        540000.000000    39.000000\n",
            "max            1.450000e+06        992000.000000   366.000000\n"
          ]
        },
        {
          "output_type": "execute_result",
          "data": {
            "text/plain": [
              "   salary_monthly_BRUTO  salary_monthly_NETO  \\\n",
              "0              680000.0             520000.0   \n",
              "1              650000.0             520000.0   \n",
              "2              125000.0             104000.0   \n",
              "5              276000.0             229000.0   \n",
              "\n",
              "                            profile_career  \\\n",
              "0                                      NaN   \n",
              "1  Licenciatura en Sistemas de Información   \n",
              "2                                      NaN   \n",
              "5       Analista Universitario de Sistemas   \n",
              "\n",
              "                         tools_programming_languages  \\\n",
              "0                                 Bash/Shell, Python   \n",
              "1  Bash/Shell, CSS, HTML, Javascript, PHP, SQL, T...   \n",
              "2            SQL, Oracle APEX, PL-SQL, SQL Developer   \n",
              "5                                        Python, SQL   \n",
              "\n",
              "  profile_studies_level_state  profile_age  \n",
              "0                         NaN           36  \n",
              "1                    Completo           45  \n",
              "2                         NaN           29  \n",
              "5                    Completo           28  "
            ],
            "text/html": [
              "\n",
              "  <div id=\"df-1b5bc1ac-d0e4-4590-9b0a-b8d73257ebd9\" class=\"colab-df-container\">\n",
              "    <div>\n",
              "<style scoped>\n",
              "    .dataframe tbody tr th:only-of-type {\n",
              "        vertical-align: middle;\n",
              "    }\n",
              "\n",
              "    .dataframe tbody tr th {\n",
              "        vertical-align: top;\n",
              "    }\n",
              "\n",
              "    .dataframe thead th {\n",
              "        text-align: right;\n",
              "    }\n",
              "</style>\n",
              "<table border=\"1\" class=\"dataframe\">\n",
              "  <thead>\n",
              "    <tr style=\"text-align: right;\">\n",
              "      <th></th>\n",
              "      <th>salary_monthly_BRUTO</th>\n",
              "      <th>salary_monthly_NETO</th>\n",
              "      <th>profile_career</th>\n",
              "      <th>tools_programming_languages</th>\n",
              "      <th>profile_studies_level_state</th>\n",
              "      <th>profile_age</th>\n",
              "    </tr>\n",
              "  </thead>\n",
              "  <tbody>\n",
              "    <tr>\n",
              "      <th>0</th>\n",
              "      <td>680000.0</td>\n",
              "      <td>520000.0</td>\n",
              "      <td>NaN</td>\n",
              "      <td>Bash/Shell, Python</td>\n",
              "      <td>NaN</td>\n",
              "      <td>36</td>\n",
              "    </tr>\n",
              "    <tr>\n",
              "      <th>1</th>\n",
              "      <td>650000.0</td>\n",
              "      <td>520000.0</td>\n",
              "      <td>Licenciatura en Sistemas de Información</td>\n",
              "      <td>Bash/Shell, CSS, HTML, Javascript, PHP, SQL, T...</td>\n",
              "      <td>Completo</td>\n",
              "      <td>45</td>\n",
              "    </tr>\n",
              "    <tr>\n",
              "      <th>2</th>\n",
              "      <td>125000.0</td>\n",
              "      <td>104000.0</td>\n",
              "      <td>NaN</td>\n",
              "      <td>SQL, Oracle APEX, PL-SQL, SQL Developer</td>\n",
              "      <td>NaN</td>\n",
              "      <td>29</td>\n",
              "    </tr>\n",
              "    <tr>\n",
              "      <th>5</th>\n",
              "      <td>276000.0</td>\n",
              "      <td>229000.0</td>\n",
              "      <td>Analista Universitario de Sistemas</td>\n",
              "      <td>Python, SQL</td>\n",
              "      <td>Completo</td>\n",
              "      <td>28</td>\n",
              "    </tr>\n",
              "  </tbody>\n",
              "</table>\n",
              "</div>\n",
              "    <div class=\"colab-df-buttons\">\n",
              "\n",
              "  <div class=\"colab-df-container\">\n",
              "    <button class=\"colab-df-convert\" onclick=\"convertToInteractive('df-1b5bc1ac-d0e4-4590-9b0a-b8d73257ebd9')\"\n",
              "            title=\"Convert this dataframe to an interactive table.\"\n",
              "            style=\"display:none;\">\n",
              "\n",
              "  <svg xmlns=\"http://www.w3.org/2000/svg\" height=\"24px\" viewBox=\"0 -960 960 960\">\n",
              "    <path d=\"M120-120v-720h720v720H120Zm60-500h600v-160H180v160Zm220 220h160v-160H400v160Zm0 220h160v-160H400v160ZM180-400h160v-160H180v160Zm440 0h160v-160H620v160ZM180-180h160v-160H180v160Zm440 0h160v-160H620v160Z\"/>\n",
              "  </svg>\n",
              "    </button>\n",
              "\n",
              "  <style>\n",
              "    .colab-df-container {\n",
              "      display:flex;\n",
              "      gap: 12px;\n",
              "    }\n",
              "\n",
              "    .colab-df-convert {\n",
              "      background-color: #E8F0FE;\n",
              "      border: none;\n",
              "      border-radius: 50%;\n",
              "      cursor: pointer;\n",
              "      display: none;\n",
              "      fill: #1967D2;\n",
              "      height: 32px;\n",
              "      padding: 0 0 0 0;\n",
              "      width: 32px;\n",
              "    }\n",
              "\n",
              "    .colab-df-convert:hover {\n",
              "      background-color: #E2EBFA;\n",
              "      box-shadow: 0px 1px 2px rgba(60, 64, 67, 0.3), 0px 1px 3px 1px rgba(60, 64, 67, 0.15);\n",
              "      fill: #174EA6;\n",
              "    }\n",
              "\n",
              "    .colab-df-buttons div {\n",
              "      margin-bottom: 4px;\n",
              "    }\n",
              "\n",
              "    [theme=dark] .colab-df-convert {\n",
              "      background-color: #3B4455;\n",
              "      fill: #D2E3FC;\n",
              "    }\n",
              "\n",
              "    [theme=dark] .colab-df-convert:hover {\n",
              "      background-color: #434B5C;\n",
              "      box-shadow: 0px 1px 3px 1px rgba(0, 0, 0, 0.15);\n",
              "      filter: drop-shadow(0px 1px 2px rgba(0, 0, 0, 0.3));\n",
              "      fill: #FFFFFF;\n",
              "    }\n",
              "  </style>\n",
              "\n",
              "    <script>\n",
              "      const buttonEl =\n",
              "        document.querySelector('#df-1b5bc1ac-d0e4-4590-9b0a-b8d73257ebd9 button.colab-df-convert');\n",
              "      buttonEl.style.display =\n",
              "        google.colab.kernel.accessAllowed ? 'block' : 'none';\n",
              "\n",
              "      async function convertToInteractive(key) {\n",
              "        const element = document.querySelector('#df-1b5bc1ac-d0e4-4590-9b0a-b8d73257ebd9');\n",
              "        const dataTable =\n",
              "          await google.colab.kernel.invokeFunction('convertToInteractive',\n",
              "                                                    [key], {});\n",
              "        if (!dataTable) return;\n",
              "\n",
              "        const docLinkHtml = 'Like what you see? Visit the ' +\n",
              "          '<a target=\"_blank\" href=https://colab.research.google.com/notebooks/data_table.ipynb>data table notebook</a>'\n",
              "          + ' to learn more about interactive tables.';\n",
              "        element.innerHTML = '';\n",
              "        dataTable['output_type'] = 'display_data';\n",
              "        await google.colab.output.renderOutput(dataTable, element);\n",
              "        const docLink = document.createElement('div');\n",
              "        docLink.innerHTML = docLinkHtml;\n",
              "        element.appendChild(docLink);\n",
              "      }\n",
              "    </script>\n",
              "  </div>\n",
              "\n",
              "\n",
              "<div id=\"df-3139fe49-1360-455a-9d1b-c2dc634cc878\">\n",
              "  <button class=\"colab-df-quickchart\" onclick=\"quickchart('df-3139fe49-1360-455a-9d1b-c2dc634cc878')\"\n",
              "            title=\"Suggest charts\"\n",
              "            style=\"display:none;\">\n",
              "\n",
              "<svg xmlns=\"http://www.w3.org/2000/svg\" height=\"24px\"viewBox=\"0 0 24 24\"\n",
              "     width=\"24px\">\n",
              "    <g>\n",
              "        <path d=\"M19 3H5c-1.1 0-2 .9-2 2v14c0 1.1.9 2 2 2h14c1.1 0 2-.9 2-2V5c0-1.1-.9-2-2-2zM9 17H7v-7h2v7zm4 0h-2V7h2v10zm4 0h-2v-4h2v4z\"/>\n",
              "    </g>\n",
              "</svg>\n",
              "  </button>\n",
              "\n",
              "<style>\n",
              "  .colab-df-quickchart {\n",
              "      --bg-color: #E8F0FE;\n",
              "      --fill-color: #1967D2;\n",
              "      --hover-bg-color: #E2EBFA;\n",
              "      --hover-fill-color: #174EA6;\n",
              "      --disabled-fill-color: #AAA;\n",
              "      --disabled-bg-color: #DDD;\n",
              "  }\n",
              "\n",
              "  [theme=dark] .colab-df-quickchart {\n",
              "      --bg-color: #3B4455;\n",
              "      --fill-color: #D2E3FC;\n",
              "      --hover-bg-color: #434B5C;\n",
              "      --hover-fill-color: #FFFFFF;\n",
              "      --disabled-bg-color: #3B4455;\n",
              "      --disabled-fill-color: #666;\n",
              "  }\n",
              "\n",
              "  .colab-df-quickchart {\n",
              "    background-color: var(--bg-color);\n",
              "    border: none;\n",
              "    border-radius: 50%;\n",
              "    cursor: pointer;\n",
              "    display: none;\n",
              "    fill: var(--fill-color);\n",
              "    height: 32px;\n",
              "    padding: 0;\n",
              "    width: 32px;\n",
              "  }\n",
              "\n",
              "  .colab-df-quickchart:hover {\n",
              "    background-color: var(--hover-bg-color);\n",
              "    box-shadow: 0 1px 2px rgba(60, 64, 67, 0.3), 0 1px 3px 1px rgba(60, 64, 67, 0.15);\n",
              "    fill: var(--button-hover-fill-color);\n",
              "  }\n",
              "\n",
              "  .colab-df-quickchart-complete:disabled,\n",
              "  .colab-df-quickchart-complete:disabled:hover {\n",
              "    background-color: var(--disabled-bg-color);\n",
              "    fill: var(--disabled-fill-color);\n",
              "    box-shadow: none;\n",
              "  }\n",
              "\n",
              "  .colab-df-spinner {\n",
              "    border: 2px solid var(--fill-color);\n",
              "    border-color: transparent;\n",
              "    border-bottom-color: var(--fill-color);\n",
              "    animation:\n",
              "      spin 1s steps(1) infinite;\n",
              "  }\n",
              "\n",
              "  @keyframes spin {\n",
              "    0% {\n",
              "      border-color: transparent;\n",
              "      border-bottom-color: var(--fill-color);\n",
              "      border-left-color: var(--fill-color);\n",
              "    }\n",
              "    20% {\n",
              "      border-color: transparent;\n",
              "      border-left-color: var(--fill-color);\n",
              "      border-top-color: var(--fill-color);\n",
              "    }\n",
              "    30% {\n",
              "      border-color: transparent;\n",
              "      border-left-color: var(--fill-color);\n",
              "      border-top-color: var(--fill-color);\n",
              "      border-right-color: var(--fill-color);\n",
              "    }\n",
              "    40% {\n",
              "      border-color: transparent;\n",
              "      border-right-color: var(--fill-color);\n",
              "      border-top-color: var(--fill-color);\n",
              "    }\n",
              "    60% {\n",
              "      border-color: transparent;\n",
              "      border-right-color: var(--fill-color);\n",
              "    }\n",
              "    80% {\n",
              "      border-color: transparent;\n",
              "      border-right-color: var(--fill-color);\n",
              "      border-bottom-color: var(--fill-color);\n",
              "    }\n",
              "    90% {\n",
              "      border-color: transparent;\n",
              "      border-bottom-color: var(--fill-color);\n",
              "    }\n",
              "  }\n",
              "</style>\n",
              "\n",
              "  <script>\n",
              "    async function quickchart(key) {\n",
              "      const quickchartButtonEl =\n",
              "        document.querySelector('#' + key + ' button');\n",
              "      quickchartButtonEl.disabled = true;  // To prevent multiple clicks.\n",
              "      quickchartButtonEl.classList.add('colab-df-spinner');\n",
              "      try {\n",
              "        const charts = await google.colab.kernel.invokeFunction(\n",
              "            'suggestCharts', [key], {});\n",
              "      } catch (error) {\n",
              "        console.error('Error during call to suggestCharts:', error);\n",
              "      }\n",
              "      quickchartButtonEl.classList.remove('colab-df-spinner');\n",
              "      quickchartButtonEl.classList.add('colab-df-quickchart-complete');\n",
              "    }\n",
              "    (() => {\n",
              "      let quickchartButtonEl =\n",
              "        document.querySelector('#df-3139fe49-1360-455a-9d1b-c2dc634cc878 button');\n",
              "      quickchartButtonEl.style.display =\n",
              "        google.colab.kernel.accessAllowed ? 'block' : 'none';\n",
              "    })();\n",
              "  </script>\n",
              "</div>\n",
              "    </div>\n",
              "  </div>\n"
            ],
            "application/vnd.google.colaboratory.intrinsic+json": {
              "type": "dataframe",
              "variable_name": "curated_data",
              "summary": "{\n  \"name\": \"curated_data\",\n  \"rows\": 3554,\n  \"fields\": [\n    {\n      \"column\": \"salary_monthly_BRUTO\",\n      \"properties\": {\n        \"dtype\": \"number\",\n        \"std\": 279088.77808319806,\n        \"min\": 101000.0,\n        \"max\": 1450000.0,\n        \"num_unique_values\": 1417,\n        \"samples\": [\n          616000.0,\n          570000.0,\n          506600.0\n        ],\n        \"semantic_type\": \"\",\n        \"description\": \"\"\n      }\n    },\n    {\n      \"column\": \"salary_monthly_NETO\",\n      \"properties\": {\n        \"dtype\": \"number\",\n        \"std\": 182369.95281287187,\n        \"min\": 100545.0,\n        \"max\": 992000.0,\n        \"num_unique_values\": 1326,\n        \"samples\": [\n          296863.0,\n          745000.0,\n          250645.0\n        ],\n        \"semantic_type\": \"\",\n        \"description\": \"\"\n      }\n    },\n    {\n      \"column\": \"profile_career\",\n      \"properties\": {\n        \"dtype\": \"category\",\n        \"num_unique_values\": 301,\n        \"samples\": [\n          \"Desarrollador Full Stack\",\n          \"Tecnicatura en Redes informaticas, Ciberseguridad, Hacking Etico,Tec. Inf. de Gestion.\",\n          \"Licenciatura en Recursos Humanos\"\n        ],\n        \"semantic_type\": \"\",\n        \"description\": \"\"\n      }\n    },\n    {\n      \"column\": \"tools_programming_languages\",\n      \"properties\": {\n        \"dtype\": \"category\",\n        \"num_unique_values\": 998,\n        \"samples\": [\n          \".NET, Bash/Shell, CSS, HTML, Java, PHP, Python\",\n          \"Bash/Shell, Perl\",\n          \"CSS, HTML, Javascript, Python, TypeScript\"\n        ],\n        \"semantic_type\": \"\",\n        \"description\": \"\"\n      }\n    },\n    {\n      \"column\": \"profile_studies_level_state\",\n      \"properties\": {\n        \"dtype\": \"category\",\n        \"num_unique_values\": 3,\n        \"samples\": [\n          \"Completo\",\n          \"Incompleto\",\n          \"En curso\"\n        ],\n        \"semantic_type\": \"\",\n        \"description\": \"\"\n      }\n    },\n    {\n      \"column\": \"profile_age\",\n      \"properties\": {\n        \"dtype\": \"number\",\n        \"std\": 10,\n        \"min\": 18,\n        \"max\": 366,\n        \"num_unique_values\": 53,\n        \"samples\": [\n          41,\n          59,\n          68\n        ],\n        \"semantic_type\": \"\",\n        \"description\": \"\"\n      }\n    }\n  ]\n}"
            }
          },
          "metadata": {},
          "execution_count": 124
        }
      ]
    },
    {
      "cell_type": "markdown",
      "source": [
        "### Procesamiento de lista de lenguajes\n",
        "\n",
        "En este apartado se desglosan las listas de lenguajes de programación para su análisis.\n",
        "\n",
        "En primer lugar se obtiene una lista de todos los lenguajes que aparecen y su respectiva frecuencia. Tambíen se eliminan repetidos en el mismo individio, si los hubiera.\n",
        "\n",
        "Nos quedamos con los más populares para simplificar el análisis.\n",
        "\n",
        "#### Lista de lenguajes de programación"
      ],
      "metadata": {
        "id": "vHW4I2ck_nwU"
      }
    },
    {
      "cell_type": "code",
      "source": [
        "def split_languages(languages_str):\n",
        "  if not isinstance(languages_str, str):\n",
        "    return []\n",
        "  # Remove 'other' option\n",
        "  languages_str = languages_str.lower()\\\n",
        "    .replace('ninguno de los anteriores', '')\n",
        "  # Split string into list of items\n",
        "  # Remove spaces and commas for each item\n",
        "  return [lang.strip().replace(',', '')\n",
        "          for lang in languages_str.split()]\n",
        "\n",
        "# Create a new column with the list of languages\n",
        "curated_data.loc[:, 'cured_programming_languages'] = curated_data.tools_programming_languages.apply(split_languages)\n",
        "\n",
        "#Obtenemos la lista de todos los lenguajes ingresados\n",
        "tools_programming_languages = curated_data[\"cured_programming_languages\"].to_list()\n",
        "\n",
        "#Lista cruda de lenguajes sin repetición\n",
        "lenguajes = list(set([e for l in tools_programming_languages for e in l]))\n",
        "\n",
        "# Lista de elementos que no son lenguajes o herramientas de programación\n",
        "no_lenguajes = ['-', 'ninguno', 'nan', 'no aplica a mi puesto', 'ninguna', 'no', 'en mi caso uso mínimo para cuestiones de ajustes',\n",
        "                'no estoy dentro de tecnología', 'utilizamos lenguajes exclusivos de la herramienta de ibm que utilizamos']\n",
        "\n",
        "# Los quitamos de la lista\n",
        "lenguajes = list(set(lenguajes) - set(no_lenguajes))\n",
        "\n",
        "print(lenguajes)"
      ],
      "metadata": {
        "colab": {
          "base_uri": "https://localhost:8080/"
        },
        "id": "fY3sVtv-AQvH",
        "outputId": "df127c8f-ef3a-431b-f13f-748d91c34166"
      },
      "execution_count": null,
      "outputs": [
        {
          "output_type": "stream",
          "name": "stdout",
          "text": [
            "['', 'bash', 'python', 'vfp', 'groovy', 'powerbi', 'aplica', 'bml', 'yaml.', 'javascript', 'jql', 'a', 'de', 'natural', 'developer', 'edwards', 'dart', 'pentaho', 'abap', 'builder', 'ampscript', 'cli', 'gosu', 'salesforce/apex', 'react', 'basic', 'kusto', 'bi', 'appscript', 'kotlin', 'core', 'dax;', 'foxpro', 'sas', 'apex', 'xml.', 'cloud', 'fiori', 'utilizo', 'server', 'jenkin', 'para', 'lenguajes', 'ile', 'typescript', 'vb6', '(low', 'deluge', 'progress', 'powershell', 'x', 'qlik', 'powerscript', 'ajustes', 'mikrotik', 'smalltalk', 'engine', 'vlocity', 'esql', 'genexus', 'edi', 'delphi', 'perl', 'aws', 'vb', 'html', '0', 'x++', 'scala', '(lenguaje', 'en', 'clojure', 'pl/sql', 'pl-sql', 'glsl', 'xaml', 'spl', 'rpg', 'ruby', 'utilizamos', 'xpath', 'vba', 'estoy', 'eql', 'gherkin', 'assembler', 'java', 'ibm', 'code)', 'xquery', 'siebel', 'bash/shell', 'que', 'hlsl', 'erp', 'hfsql', 'windows', 'xsl', 'cuestiones', 'plsql', 'salesforce)', 'asp', 'qik', 'al', 'exclusivos', 'salesforce', 'sql', 'abl', 'pascal', 'swift', 'programación', 'cg', 'snowdrop', 'lua', 'mulesoft', 'jd', 'arduino', 'pl', 'postgresql', 'oracle', 'hcl', 'elixir', 'xml', 'stata', 'vbscript', 'jbase', 'r', 'net', 'mainframe', 'pi/po', 'c', 'erlang', 'matlab', 'tosca', 'aql', '.net', '(oracle', '9.0', 'dax', 'lookerml', 'ui5', 'go', 'powerbuilder', 'yaml', 'rpgle', 'm', 'herramienta', 'unreal', 'rust', 'c++', 'azure', 'terraform', 'php', 'cloudformation', 'mi', 'sqr', 'xslt', 'visual', 'nodejs', 'outsystems', 'solidity', 'ansible', 'y', 'css', 'puesto', 'dentro', 'jde)', 'fx', 'caso', 'sense', 'power', 'custom', 'uso', 'mínimo', 'kql', 'classic', 'mongo', 'engines.', 'la', 'c#', 'omnistudio', 'json', 'objective-c', 'tecnología', 'cobol']\n"
          ]
        }
      ]
    },
    {
      "cell_type": "markdown",
      "source": [
        "#### Analisis de popularidad de lenguajes de programación\n"
      ],
      "metadata": {
        "id": "LvMg32yREqz5"
      }
    },
    {
      "cell_type": "code",
      "source": [
        "conteo = pd.DataFrame({\"lenguaje\": lenguajes, \"conteo\" : [0]*len(lenguajes)})\n",
        "for lenguaje in lenguajes:\n",
        "  conteo.loc[conteo[\"lenguaje\"] == lenguaje, [\"conteo\"]] = curated_data[\"cured_programming_languages\"].apply(lambda x: lenguaje in x ).sum()\n",
        "\n",
        "conteo = conteo.sort_values(by = \"conteo\", ascending = False)\n",
        "conteo.head(15)\n"
      ],
      "metadata": {
        "colab": {
          "base_uri": "https://localhost:8080/",
          "height": 519
        },
        "id": "44GLBRJWHZCN",
        "outputId": "2a27da90-01fc-4107-b19a-ed0f19f7787e"
      },
      "execution_count": null,
      "outputs": [
        {
          "output_type": "execute_result",
          "data": {
            "text/plain": [
              "       lenguaje  conteo\n",
              "106         sql    1558\n",
              "9    javascript    1293\n",
              "2        python     999\n",
              "65         html     955\n",
              "86         java     677\n",
              "163         css     641\n",
              "44   typescript     570\n",
              "91   bash/shell     545\n",
              "135        .net     438\n",
              "152         php     402\n",
              "179          c#     376\n",
              "141          go     186\n",
              "81          vba     131\n",
              "149         c++      96\n",
              "29       kotlin      81"
            ],
            "text/html": [
              "\n",
              "  <div id=\"df-e3057bc3-379c-4b70-91d6-0ca23b822990\" class=\"colab-df-container\">\n",
              "    <div>\n",
              "<style scoped>\n",
              "    .dataframe tbody tr th:only-of-type {\n",
              "        vertical-align: middle;\n",
              "    }\n",
              "\n",
              "    .dataframe tbody tr th {\n",
              "        vertical-align: top;\n",
              "    }\n",
              "\n",
              "    .dataframe thead th {\n",
              "        text-align: right;\n",
              "    }\n",
              "</style>\n",
              "<table border=\"1\" class=\"dataframe\">\n",
              "  <thead>\n",
              "    <tr style=\"text-align: right;\">\n",
              "      <th></th>\n",
              "      <th>lenguaje</th>\n",
              "      <th>conteo</th>\n",
              "    </tr>\n",
              "  </thead>\n",
              "  <tbody>\n",
              "    <tr>\n",
              "      <th>106</th>\n",
              "      <td>sql</td>\n",
              "      <td>1558</td>\n",
              "    </tr>\n",
              "    <tr>\n",
              "      <th>9</th>\n",
              "      <td>javascript</td>\n",
              "      <td>1293</td>\n",
              "    </tr>\n",
              "    <tr>\n",
              "      <th>2</th>\n",
              "      <td>python</td>\n",
              "      <td>999</td>\n",
              "    </tr>\n",
              "    <tr>\n",
              "      <th>65</th>\n",
              "      <td>html</td>\n",
              "      <td>955</td>\n",
              "    </tr>\n",
              "    <tr>\n",
              "      <th>86</th>\n",
              "      <td>java</td>\n",
              "      <td>677</td>\n",
              "    </tr>\n",
              "    <tr>\n",
              "      <th>163</th>\n",
              "      <td>css</td>\n",
              "      <td>641</td>\n",
              "    </tr>\n",
              "    <tr>\n",
              "      <th>44</th>\n",
              "      <td>typescript</td>\n",
              "      <td>570</td>\n",
              "    </tr>\n",
              "    <tr>\n",
              "      <th>91</th>\n",
              "      <td>bash/shell</td>\n",
              "      <td>545</td>\n",
              "    </tr>\n",
              "    <tr>\n",
              "      <th>135</th>\n",
              "      <td>.net</td>\n",
              "      <td>438</td>\n",
              "    </tr>\n",
              "    <tr>\n",
              "      <th>152</th>\n",
              "      <td>php</td>\n",
              "      <td>402</td>\n",
              "    </tr>\n",
              "    <tr>\n",
              "      <th>179</th>\n",
              "      <td>c#</td>\n",
              "      <td>376</td>\n",
              "    </tr>\n",
              "    <tr>\n",
              "      <th>141</th>\n",
              "      <td>go</td>\n",
              "      <td>186</td>\n",
              "    </tr>\n",
              "    <tr>\n",
              "      <th>81</th>\n",
              "      <td>vba</td>\n",
              "      <td>131</td>\n",
              "    </tr>\n",
              "    <tr>\n",
              "      <th>149</th>\n",
              "      <td>c++</td>\n",
              "      <td>96</td>\n",
              "    </tr>\n",
              "    <tr>\n",
              "      <th>29</th>\n",
              "      <td>kotlin</td>\n",
              "      <td>81</td>\n",
              "    </tr>\n",
              "  </tbody>\n",
              "</table>\n",
              "</div>\n",
              "    <div class=\"colab-df-buttons\">\n",
              "\n",
              "  <div class=\"colab-df-container\">\n",
              "    <button class=\"colab-df-convert\" onclick=\"convertToInteractive('df-e3057bc3-379c-4b70-91d6-0ca23b822990')\"\n",
              "            title=\"Convert this dataframe to an interactive table.\"\n",
              "            style=\"display:none;\">\n",
              "\n",
              "  <svg xmlns=\"http://www.w3.org/2000/svg\" height=\"24px\" viewBox=\"0 -960 960 960\">\n",
              "    <path d=\"M120-120v-720h720v720H120Zm60-500h600v-160H180v160Zm220 220h160v-160H400v160Zm0 220h160v-160H400v160ZM180-400h160v-160H180v160Zm440 0h160v-160H620v160ZM180-180h160v-160H180v160Zm440 0h160v-160H620v160Z\"/>\n",
              "  </svg>\n",
              "    </button>\n",
              "\n",
              "  <style>\n",
              "    .colab-df-container {\n",
              "      display:flex;\n",
              "      gap: 12px;\n",
              "    }\n",
              "\n",
              "    .colab-df-convert {\n",
              "      background-color: #E8F0FE;\n",
              "      border: none;\n",
              "      border-radius: 50%;\n",
              "      cursor: pointer;\n",
              "      display: none;\n",
              "      fill: #1967D2;\n",
              "      height: 32px;\n",
              "      padding: 0 0 0 0;\n",
              "      width: 32px;\n",
              "    }\n",
              "\n",
              "    .colab-df-convert:hover {\n",
              "      background-color: #E2EBFA;\n",
              "      box-shadow: 0px 1px 2px rgba(60, 64, 67, 0.3), 0px 1px 3px 1px rgba(60, 64, 67, 0.15);\n",
              "      fill: #174EA6;\n",
              "    }\n",
              "\n",
              "    .colab-df-buttons div {\n",
              "      margin-bottom: 4px;\n",
              "    }\n",
              "\n",
              "    [theme=dark] .colab-df-convert {\n",
              "      background-color: #3B4455;\n",
              "      fill: #D2E3FC;\n",
              "    }\n",
              "\n",
              "    [theme=dark] .colab-df-convert:hover {\n",
              "      background-color: #434B5C;\n",
              "      box-shadow: 0px 1px 3px 1px rgba(0, 0, 0, 0.15);\n",
              "      filter: drop-shadow(0px 1px 2px rgba(0, 0, 0, 0.3));\n",
              "      fill: #FFFFFF;\n",
              "    }\n",
              "  </style>\n",
              "\n",
              "    <script>\n",
              "      const buttonEl =\n",
              "        document.querySelector('#df-e3057bc3-379c-4b70-91d6-0ca23b822990 button.colab-df-convert');\n",
              "      buttonEl.style.display =\n",
              "        google.colab.kernel.accessAllowed ? 'block' : 'none';\n",
              "\n",
              "      async function convertToInteractive(key) {\n",
              "        const element = document.querySelector('#df-e3057bc3-379c-4b70-91d6-0ca23b822990');\n",
              "        const dataTable =\n",
              "          await google.colab.kernel.invokeFunction('convertToInteractive',\n",
              "                                                    [key], {});\n",
              "        if (!dataTable) return;\n",
              "\n",
              "        const docLinkHtml = 'Like what you see? Visit the ' +\n",
              "          '<a target=\"_blank\" href=https://colab.research.google.com/notebooks/data_table.ipynb>data table notebook</a>'\n",
              "          + ' to learn more about interactive tables.';\n",
              "        element.innerHTML = '';\n",
              "        dataTable['output_type'] = 'display_data';\n",
              "        await google.colab.output.renderOutput(dataTable, element);\n",
              "        const docLink = document.createElement('div');\n",
              "        docLink.innerHTML = docLinkHtml;\n",
              "        element.appendChild(docLink);\n",
              "      }\n",
              "    </script>\n",
              "  </div>\n",
              "\n",
              "\n",
              "<div id=\"df-a6c021c0-dba4-4f80-93d2-5511ded6697b\">\n",
              "  <button class=\"colab-df-quickchart\" onclick=\"quickchart('df-a6c021c0-dba4-4f80-93d2-5511ded6697b')\"\n",
              "            title=\"Suggest charts\"\n",
              "            style=\"display:none;\">\n",
              "\n",
              "<svg xmlns=\"http://www.w3.org/2000/svg\" height=\"24px\"viewBox=\"0 0 24 24\"\n",
              "     width=\"24px\">\n",
              "    <g>\n",
              "        <path d=\"M19 3H5c-1.1 0-2 .9-2 2v14c0 1.1.9 2 2 2h14c1.1 0 2-.9 2-2V5c0-1.1-.9-2-2-2zM9 17H7v-7h2v7zm4 0h-2V7h2v10zm4 0h-2v-4h2v4z\"/>\n",
              "    </g>\n",
              "</svg>\n",
              "  </button>\n",
              "\n",
              "<style>\n",
              "  .colab-df-quickchart {\n",
              "      --bg-color: #E8F0FE;\n",
              "      --fill-color: #1967D2;\n",
              "      --hover-bg-color: #E2EBFA;\n",
              "      --hover-fill-color: #174EA6;\n",
              "      --disabled-fill-color: #AAA;\n",
              "      --disabled-bg-color: #DDD;\n",
              "  }\n",
              "\n",
              "  [theme=dark] .colab-df-quickchart {\n",
              "      --bg-color: #3B4455;\n",
              "      --fill-color: #D2E3FC;\n",
              "      --hover-bg-color: #434B5C;\n",
              "      --hover-fill-color: #FFFFFF;\n",
              "      --disabled-bg-color: #3B4455;\n",
              "      --disabled-fill-color: #666;\n",
              "  }\n",
              "\n",
              "  .colab-df-quickchart {\n",
              "    background-color: var(--bg-color);\n",
              "    border: none;\n",
              "    border-radius: 50%;\n",
              "    cursor: pointer;\n",
              "    display: none;\n",
              "    fill: var(--fill-color);\n",
              "    height: 32px;\n",
              "    padding: 0;\n",
              "    width: 32px;\n",
              "  }\n",
              "\n",
              "  .colab-df-quickchart:hover {\n",
              "    background-color: var(--hover-bg-color);\n",
              "    box-shadow: 0 1px 2px rgba(60, 64, 67, 0.3), 0 1px 3px 1px rgba(60, 64, 67, 0.15);\n",
              "    fill: var(--button-hover-fill-color);\n",
              "  }\n",
              "\n",
              "  .colab-df-quickchart-complete:disabled,\n",
              "  .colab-df-quickchart-complete:disabled:hover {\n",
              "    background-color: var(--disabled-bg-color);\n",
              "    fill: var(--disabled-fill-color);\n",
              "    box-shadow: none;\n",
              "  }\n",
              "\n",
              "  .colab-df-spinner {\n",
              "    border: 2px solid var(--fill-color);\n",
              "    border-color: transparent;\n",
              "    border-bottom-color: var(--fill-color);\n",
              "    animation:\n",
              "      spin 1s steps(1) infinite;\n",
              "  }\n",
              "\n",
              "  @keyframes spin {\n",
              "    0% {\n",
              "      border-color: transparent;\n",
              "      border-bottom-color: var(--fill-color);\n",
              "      border-left-color: var(--fill-color);\n",
              "    }\n",
              "    20% {\n",
              "      border-color: transparent;\n",
              "      border-left-color: var(--fill-color);\n",
              "      border-top-color: var(--fill-color);\n",
              "    }\n",
              "    30% {\n",
              "      border-color: transparent;\n",
              "      border-left-color: var(--fill-color);\n",
              "      border-top-color: var(--fill-color);\n",
              "      border-right-color: var(--fill-color);\n",
              "    }\n",
              "    40% {\n",
              "      border-color: transparent;\n",
              "      border-right-color: var(--fill-color);\n",
              "      border-top-color: var(--fill-color);\n",
              "    }\n",
              "    60% {\n",
              "      border-color: transparent;\n",
              "      border-right-color: var(--fill-color);\n",
              "    }\n",
              "    80% {\n",
              "      border-color: transparent;\n",
              "      border-right-color: var(--fill-color);\n",
              "      border-bottom-color: var(--fill-color);\n",
              "    }\n",
              "    90% {\n",
              "      border-color: transparent;\n",
              "      border-bottom-color: var(--fill-color);\n",
              "    }\n",
              "  }\n",
              "</style>\n",
              "\n",
              "  <script>\n",
              "    async function quickchart(key) {\n",
              "      const quickchartButtonEl =\n",
              "        document.querySelector('#' + key + ' button');\n",
              "      quickchartButtonEl.disabled = true;  // To prevent multiple clicks.\n",
              "      quickchartButtonEl.classList.add('colab-df-spinner');\n",
              "      try {\n",
              "        const charts = await google.colab.kernel.invokeFunction(\n",
              "            'suggestCharts', [key], {});\n",
              "      } catch (error) {\n",
              "        console.error('Error during call to suggestCharts:', error);\n",
              "      }\n",
              "      quickchartButtonEl.classList.remove('colab-df-spinner');\n",
              "      quickchartButtonEl.classList.add('colab-df-quickchart-complete');\n",
              "    }\n",
              "    (() => {\n",
              "      let quickchartButtonEl =\n",
              "        document.querySelector('#df-a6c021c0-dba4-4f80-93d2-5511ded6697b button');\n",
              "      quickchartButtonEl.style.display =\n",
              "        google.colab.kernel.accessAllowed ? 'block' : 'none';\n",
              "    })();\n",
              "  </script>\n",
              "</div>\n",
              "    </div>\n",
              "  </div>\n"
            ],
            "application/vnd.google.colaboratory.intrinsic+json": {
              "type": "dataframe",
              "variable_name": "conteo",
              "summary": "{\n  \"name\": \"conteo\",\n  \"rows\": 185,\n  \"fields\": [\n    {\n      \"column\": \"lenguaje\",\n      \"properties\": {\n        \"dtype\": \"string\",\n        \"num_unique_values\": 185,\n        \"samples\": [\n          \"ruby\",\n          \"de\",\n          \"jd\"\n        ],\n        \"semantic_type\": \"\",\n        \"description\": \"\"\n      }\n    },\n    {\n      \"column\": \"conteo\",\n      \"properties\": {\n        \"dtype\": \"number\",\n        \"std\": 202,\n        \"min\": 1,\n        \"max\": 1558,\n        \"num_unique_values\": 39,\n        \"samples\": [\n          6,\n          3,\n          677\n        ],\n        \"semantic_type\": \"\",\n        \"description\": \"\"\n      }\n    }\n  ]\n}"
            }
          },
          "metadata": {},
          "execution_count": 126
        }
      ]
    },
    {
      "cell_type": "markdown",
      "source": [
        "### Analsis de sueldos por lenguaje\n",
        "\n",
        "Veamos el diagrama de boxplot para cada uno de los lenguajes"
      ],
      "metadata": {
        "id": "-Z1rfHnCSfYL"
      }
    },
    {
      "cell_type": "code",
      "source": [
        "sueldos_leng = pd.DataFrame({'cured_programming_languages' : [], 'salary_monthly_NETO': []})\n",
        "\n",
        "media = []\n",
        "l_leng = list(conteo['lenguaje'].head(15))\n",
        "for leng in list(conteo['lenguaje'].head(15)):\n",
        "  media.append(curated_data['salary_monthly_NETO'][(curated_data['salary_monthly_NETO'] < max) & (curated_data['cured_programming_languages'].apply(lambda x: leng in x))].mean())\n",
        "\n",
        "leng_med =  pd.DataFrame( {'lenguaje' : l_leng, 'media' : media}).sort_values(by='media')\n",
        "\n",
        "\n",
        "for leng in list(leng_med['lenguaje']):\n",
        "  df_aux = pd.DataFrame({'cured_programming_languages' : [], 'salary_monthly_NETO': []})\n",
        "  df_aux['salary_monthly_NETO'] = curated_data['salary_monthly_NETO'][(curated_data['salary_monthly_NETO'] < max) & (curated_data['cured_programming_languages'].apply(lambda x: leng in x))]\n",
        "  df_aux['cured_programming_languages'] = leng\n",
        "  sueldos_leng = pd.concat([sueldos_leng,df_aux],axis=0, ignore_index = True)\n",
        "  #plt.figure(figsize=(5, 1))\n",
        "  #plt.title(leng)\n",
        "  #sns.boxplot(x=df_aux)\n",
        "  #sns.despine()\n",
        "\n",
        "sueldos_leng.head(10)\n",
        "g = sns.catplot(data=sueldos_leng, x='salary_monthly_NETO', y='cured_programming_languages',  kind=\"box\" )\n",
        "# g.set_yticklabels(list(sueldos_leng[\"cured_programming_languages\"]))\n",
        "\n",
        "\n",
        "#g = sns.catplot(data=dc, x=neto, y='profile_studies_level',  kind=\"box\", order=dc['profile_studies_level'].value_counts().index )\n",
        "#g.set_yticklabels([\"Universitario\", \"Terciario\", \"Posgrado\", \"Maestría\", \"Secundario\", \"Doctorado\", \"Postdoctorado\"])\n"
      ],
      "metadata": {
        "colab": {
          "base_uri": "https://localhost:8080/",
          "height": 501
        },
        "id": "YyhJVEn3Ubul",
        "outputId": "a10e8c37-7b0d-4fb5-e6fd-1f5f9116d849"
      },
      "execution_count": null,
      "outputs": [
        {
          "output_type": "display_data",
          "data": {
            "text/plain": [
              "<Figure size 512.222x500 with 1 Axes>"
            ],
            "image/png": "[encoded data removed]"
          },
          "metadata": {}
        }
      ]
    },
    {
      "cell_type": "markdown",
      "metadata": {
        "id": "tWo8SmmC9FAk"
      },
      "source": [
        "# Ejercicio 2 - Densidades y varias variables\n",
        "\n",
        "Responder a la pregunta general: **¿Que herramientas (prácticas y teóricas) són útiles para explorar la base, descubrir patrones, asociaciones?**\n",
        "\n",
        "Para ello considere (igual al ejercicio Anterior):\n",
        "1. Seleccionar las columnas relevantes para analizar.\n",
        "2. Seleccionar las filas relevantes para analizar. Esto incluye la eliminación de valores extremos y erróneos, pero también puede enfocar el análisis en sub-poblaciones."
      ]
    },
    {
      "cell_type": "code",
      "source": [
        "url = 'https://raw.githubusercontent.com/DiploDatos/AnalisisyVisualizacion/master/sysarmy_survey_2023_processed.csv'\n",
        "df = pd.read_csv(url)"
      ],
      "metadata": {
        "id": "lwV19FJRL3_O"
      },
      "execution_count": null,
      "outputs": []
    },
    {
      "cell_type": "code",
      "source": [
        "df.to_csv('/content/sample_data/data.csv')"
      ],
      "metadata": {
        "id": "3mFI195OL6J9"
      },
      "execution_count": null,
      "outputs": []
    },
    {
      "cell_type": "code",
      "source": [
        "df.columns"
      ],
      "metadata": {
        "id": "s1cAfz14QjJj"
      },
      "execution_count": null,
      "outputs": []
    },
    {
      "cell_type": "code",
      "source": [
        "df_curated = df.loc[(df.work_dedication == \"Full-Time\") & (df.work_contract_type == \"Staff (planta permanente)\"),['work_dedication',\n",
        "       'work_contract_type', 'salary_monthly_BRUTO', 'salary_monthly_NETO',\n",
        "       'salary_in_usd',\n",
        "       'Trabajo de', 'profile_years_experience', 'profile_studies_level',\n",
        "      'profile_age',\n",
        "       'profile_gender']]"
      ],
      "metadata": {
        "id": "nXq4iByHOf_u"
      },
      "execution_count": null,
      "outputs": []
    },
    {
      "cell_type": "code",
      "source": [
        "df_curated.head()"
      ],
      "metadata": {
        "id": "F4Tp5_zVSECV"
      },
      "execution_count": null,
      "outputs": []
    },
    {
      "cell_type": "code",
      "source": [
        "sns.histplot(x=df_curated.salary_monthly_NETO[(df_curated.salary_monthly_NETO < 5000000) & (df_curated.salary_monthly_NETO > 300000)], binwidth=50000)\n",
        "\n",
        "plt.ticklabel_format(style='plain', axis='x')"
      ],
      "metadata": {
        "id": "SYKUGkMhVbig"
      },
      "execution_count": null,
      "outputs": []
    },
    {
      "cell_type": "code",
      "source": [
        "df_curated.describe()"
      ],
      "metadata": {
        "id": "JXa_sc5tVY44"
      },
      "execution_count": null,
      "outputs": []
    },
    {
      "cell_type": "markdown",
      "metadata": {
        "id": "5baYhH0XHM3S"
      },
      "source": [
        "### a) Densidad conjunta\n",
        "\n",
        "**Que herramientas visuales y modelos puede utilizar para estudiar la distribución y comportamiento de sus datos?**\n",
        "\n",
        "RTA: La distribución de los datos puede ser estudiada a traves de la\n",
        "realización de gráficos adecuados segun el tipo y cantidad de variables en estudio: diagrama de dispersión, histogramas de frecuencias, box plots, etc.\n",
        "\n",
        "**Elija tres variables numéricas y 2 variables categóricas. Visualice la base según varias de las variables elegidas. Puede describir de alguna forma el comportamiento de sus datos? Que herramientas utilizaría? Describa**\n",
        "\n",
        "\n"
      ]
    },
    {
      "cell_type": "code",
      "source": [
        "plt.figure(figsize=(12, 4))\n",
        "plt.title('Boxpplot antes de eliminar los outliers')\n",
        "sns.boxplot(x=df_curated['salary_monthly_NETO'])\n",
        "sns.despine()\n",
        "\n",
        "#Calculamos el umbral maximo, que luego lo usaremos para definir outliers\n",
        "\n",
        "q3 = df_curated['salary_monthly_NETO'].quantile(75/100)\n",
        "q1 = df_curated['salary_monthly_NETO'].quantile(25/100)\n",
        "iqr = q3 - q1\n",
        "\n",
        "min= q1-1.5*iqr\n",
        "max= q3+1.5*iqr\n",
        "print(f'El umbral maximo es {max}')\n",
        "print(f'El umbral mínimo es {min}')\n",
        "\n",
        "plt.figure(figsize=(12, 4))\n",
        "plt.title('Boxpplot despues de eliminar los outliers superiores')\n",
        "sns.boxplot(x=df_curated['salary_monthly_NETO'][(df_curated['salary_monthly_NETO'] < max)])\n",
        "sns.despine()\n",
        "\n",
        "\n",
        "plt.figure(figsize=(12, 4))\n",
        "plt.title('Boxpplot despues de eliminar los outliers y los sueldos menores de $100000')\n",
        "sns.boxplot(x=df_curated['salary_monthly_NETO'][(df_curated['salary_monthly_NETO'] < max) & (df_curated['salary_monthly_NETO'] > 100000)])\n",
        "sns.despine()\n",
        "\n",
        "df_curated.info()"
      ],
      "metadata": {
        "id": "qdWwbRbvCAeU"
      },
      "execution_count": null,
      "outputs": []
    },
    {
      "cell_type": "code",
      "source": [
        "plt.figure(figsize=(12, 4))\n",
        "plt.title('Boxpplot antes de eliminar los outliers')\n",
        "sns.boxplot(x=df_curated['salary_monthly_BRUTO'])\n",
        "sns.despine()\n",
        "\n",
        "#Calculamos el umbral maximo, que luego lo usaremos para definir outliers\n",
        "\n",
        "q3 = df_curated['salary_monthly_BRUTO'].quantile(75/100)\n",
        "q1 = df_curated['salary_monthly_BRUTO'].quantile(25/100)\n",
        "iqr = q3 - q1\n",
        "\n",
        "min_b= q1-1.5*iqr\n",
        "max_b= q3+1.5*iqr\n",
        "print(f'El umbral maximo es {max}')\n",
        "print(f'El umbral mínimo es {min}')\n",
        "\n",
        "plt.figure(figsize=(12, 4))\n",
        "plt.title('Boxpplot despues de eliminar los outliers superiores')\n",
        "sns.boxplot(x=df_curated['salary_monthly_BRUTO'][(df_curated['salary_monthly_BRUTO'] < max_b)])\n",
        "sns.despine()\n",
        "\n",
        "\n",
        "plt.figure(figsize=(12, 4))\n",
        "plt.title('Boxpplot despues de eliminar los outliers y los sueldos menores de $100000')\n",
        "sns.boxplot(x=df_curated['salary_monthly_BRUTO'][(df_curated['salary_monthly_BRUTO'] < max_b) & (df_curated['salary_monthly_BRUTO'] > 100000)])\n",
        "sns.despine()\n",
        "\n",
        "df_curated.info()"
      ],
      "metadata": {
        "id": "20wOza0KeVeX"
      },
      "execution_count": null,
      "outputs": []
    },
    {
      "cell_type": "code",
      "source": [
        "dc = df_curated.loc[(df_curated['salary_monthly_NETO'] < max) & (df_curated['salary_monthly_NETO'] > 100000) & (df_curated['salary_monthly_BRUTO'] < max_b) & (df_curated['salary_monthly_BRUTO'] > 100000), ['work_dedication',\n",
        "       'work_contract_type', 'salary_monthly_BRUTO', 'salary_monthly_NETO',\n",
        "       'salary_in_usd',\n",
        "       'Trabajo de', 'profile_years_experience', 'profile_studies_level',\n",
        "      'profile_age',\n",
        "       'profile_gender']]\n",
        "dc.describe()\n",
        "dc.head()"
      ],
      "metadata": {
        "id": "awRTSk98UAEx"
      },
      "execution_count": null,
      "outputs": []
    },
    {
      "cell_type": "code",
      "source": [
        "dc.head()"
      ],
      "metadata": {
        "id": "REE5MVSUaF5U"
      },
      "execution_count": null,
      "outputs": []
    },
    {
      "cell_type": "markdown",
      "metadata": {
        "id": "lkuHE2aZGHMO"
      },
      "source": [
        "### b) Asociación\n",
        "\n",
        "* Necesitamos decidir si sacar o no la columna de salario bruto. Para hacer la encuesta más simple.\n",
        "¿Existe una correlación entre el salario bruto y el neto? Que abordaje y medidas usaría\n",
        "\n",
        "RTA: Se realizó un análisis gráfico de dispersion entre ambas variables, identificando a priori una posible relacion lineal.\n",
        "Luego se calculó el coeficiente de correlacion lineal con un resultado de 0.92, indicando alta y positiva correlacion lineal entre salario bruto y neto. Este resultado demuestra la posibilidad de quitar la pregunta del salario bruto, sin alterar los posibles analisis que se realicen con la variable de salario neto.\n",
        "\n"
      ]
    },
    {
      "cell_type": "code",
      "source": [
        "neto = dc['salary_monthly_NETO']\n",
        "bruto = dc['salary_monthly_BRUTO']\n",
        "edad = dc['profile_age']\n",
        "exp = dc['profile_years_experience']\n",
        "genero = dc['profile_gender']\n",
        "trabajo = dc['Trabajo de']\n",
        "\n",
        "sns.relplot(x = neto , y = bruto)\n",
        "plt.title(\"Relación NETO vs BRUTO\")\n",
        "plt.ticklabel_format(style='plain', axis='x')\n",
        "plt.ticklabel_format(style='plain', axis='y')\n",
        "sns.despine()"
      ],
      "metadata": {
        "id": "d7AIqSRvbpRc"
      },
      "execution_count": null,
      "outputs": []
    },
    {
      "cell_type": "code",
      "source": [
        "matcov=np.cov(bruto,neto)\n",
        "print('matriz de varianza covarianza:','\\n',matcov,'\\n')\n",
        "\n",
        "corr=np.corrcoef(bruto, neto)\n",
        "print('matriz de correlaciones: \\n ', corr,'\\n')\n",
        "\n",
        "print('correlación entra ambas variables: ',corr[0,1],'\\n')\n",
        "\n",
        "\n",
        "print(neto.describe().apply(lambda s: '{0:.2f}'.format(s)), '\\n')\n",
        "print(bruto.describe().apply(lambda s: '{0:.2f}'.format(s)))"
      ],
      "metadata": {
        "id": "wQTDrrDht5IR"
      },
      "execution_count": null,
      "outputs": []
    },
    {
      "cell_type": "code",
      "source": [
        "\n",
        "from scipy import stats as st\n",
        "\n",
        "col_numericas = [bruto, neto, edad, exp]\n",
        "col_nombres = ['Salario bruto', 'Salario neto', 'Edad', 'Años de experiencia']\n",
        "medidas_dispersion = ['Media', 'Mediana', 'Moda', 'Desviación estándar']\n",
        "dispersion = [( np.mean(c), np.median(c), st.mode(c)[0], np.std(c)) for c in col_numericas]\n",
        "it_dispersion = zip(col_nombres, dispersion)\n",
        "lista_dispersion = list(it_dispersion)\n",
        "dict_dispersion = {key: value for key, value in lista_dispersion}\n",
        "df_dispersion = pd.DataFrame(dict_dispersion, index=medidas_dispersion)\n",
        "\n",
        "# print(lista_dispersion)\n",
        "\n",
        "\n",
        "df_dispersion"
      ],
      "metadata": {
        "id": "qCX5vKnzOYGc"
      },
      "execution_count": null,
      "outputs": []
    },
    {
      "cell_type": "code",
      "source": [
        "sns.regplot(x=neto, y=bruto, data=dc, fit_reg=True, x_ci=\"sd\", line_kws=dict(color=\"r\"))"
      ],
      "metadata": {
        "id": "Y6455YpDh-sX"
      },
      "execution_count": null,
      "outputs": []
    },
    {
      "cell_type": "markdown",
      "metadata": {
        "id": "7MZrbRJCm-ae"
      },
      "source": [
        "### c) Densidad condicional\n",
        "\n",
        "Estudie la distribución del salario según el nivel de estudio.\n",
        "\n",
        "Separe la población según el nivel de estudio (elija dos subpoblaciones numerosas) y grafique de manera comparativa ambos histogramas de la variable `'salary_monthly_NETO'`\n",
        "¿Considera que ambas variables son independientes?\n",
        "¿Qué analizaría al respecto?\n",
        "\n",
        "Calcule medidas de centralización y dispersión para cada subpoblación\n",
        "\n",
        "\n",
        "\n",
        "\n"
      ]
    },
    {
      "cell_type": "code",
      "source": [
        "# figsize = (12, 4 * len(dc['profile_studies_level'].unique()))\n",
        "# plt.figure(figsize=figsize)\n",
        "g = sns.catplot(data=dc, x=neto, y='profile_studies_level',  kind=\"box\", order=dc['profile_studies_level'].value_counts().index )\n",
        "g.set_yticklabels([\"Universitario\", \"Terciario\", \"Posgrado\", \"Maestría\", \"Secundario\", \"Doctorado\", \"Postdoctorado\"])\n",
        "# sns.despine(top=True, right=True, bottom=True, left=True)"
      ],
      "metadata": {
        "id": "I50j06VCCYzF"
      },
      "execution_count": null,
      "outputs": []
    },
    {
      "cell_type": "code",
      "source": [
        "# Calculate medians for each education level\n",
        "universitario_median = dc[dc['profile_studies_level'] == \"Universitario\"]['salary_monthly_NETO'].median()\n",
        "terciario_median = dc[dc['profile_studies_level'] == \"Terciario\"]['salary_monthly_NETO'].median()\n",
        "\n",
        "# Create the histogram with kernel density estimation (KDE)\n",
        "sns.histplot(\n",
        "    x=dc['salary_monthly_NETO'][(dc['profile_studies_level'] == \"Universitario\") | (dc['profile_studies_level'] == 'Terciario')],\n",
        "    binwidth=50000,\n",
        "    hue=dc['profile_studies_level'][(dc['profile_studies_level'] == \"Universitario\") | (dc['profile_studies_level'] == 'Terciario')],\n",
        "    kde=True\n",
        ")# Calcula las medianas para cada nivel de estudios\n",
        "mediana_universitario = dc[dc['profile_studies_level'] == \"Universitario\"]['salary_monthly_NETO'].median()\n",
        "mediana_terciario = dc[dc['profile_studies_level'] == \"Terciario\"]['salary_monthly_NETO'].median()\n",
        "\n",
        "# Crea el histograma con estimación de densidad del núcleo (KDE)\n",
        "sns.histplot(\n",
        "    x=dc['salary_monthly_NETO'][(dc['profile_studies_level'] == \"Universitario\") | (dc['profile_studies_level'] == 'Terciario')],\n",
        "    binwidth=50000,\n",
        "    hue=dc['profile_studies_level'][(dc['profile_studies_level'] == \"Universitario\") | (dc['profile_studies_level'] == 'Terciario')],\n",
        "    kde=True\n",
        ")\n",
        "\n",
        "# Agrega líneas verticales para las medianas\n",
        "plt.axvline(x=mediana_universitario, color='blue', linestyle='dashed', label='Mediana Universitario')\n",
        "plt.axvline(x=mediana_terciario, color='orange', linestyle='dashed', label='Mediana Terciario')\n",
        "\n",
        "# Personaliza el gráfico\n",
        "plt.ticklabel_format(style='plain', axis='x')  # Formatea etiquetas del eje X\n",
        "plt.xlabel('Salario (Neto Mensual)')\n",
        "plt.ylabel('Densidad')\n",
        "plt.title('Distribución del Salario por Nivel de Estudios')\n",
        "plt.legend()  # Agrega leyenda para las medianas\n",
        "\n",
        "plt.show()"
      ],
      "metadata": {
        "id": "DJFbdcJXKlWY"
      },
      "execution_count": null,
      "outputs": []
    },
    {
      "cell_type": "code",
      "source": [
        "uni_ter = dc['profile_studies_level'][(dc['profile_studies_level'] == \"Universitario\") | (dc['profile_studies_level'] == 'Terciario' ) ]\n",
        "neto_uni_ter = dc['salary_monthly_NETO'][(dc['profile_studies_level'] == \"Universitario\") | (dc['profile_studies_level'] == 'Terciario' ) ]\n",
        "\n",
        "sns.displot(dc, x=neto_uni_ter, col=uni_ter, kde=True)"
      ],
      "metadata": {
        "id": "QR4GaedJag5w"
      },
      "execution_count": null,
      "outputs": []
    },
    {
      "cell_type": "code",
      "source": [
        "col_numericas = [neto[dc['profile_studies_level'] == \"Universitario\"], neto[dc['profile_studies_level'] == \"Terciario\"]]\n",
        "col_nombres = ['Salario Neto Universitarios', \"Salario Neto Terciarios\"]\n",
        "medidas_dispersion = ['Media', 'Mediana', 'Moda', 'Desviación estándar']\n",
        "dispersion = [( np.mean(c), np.median(c), st.mode(c)[0], np.std(c)) for c in col_numericas]\n",
        "it_dispersion = zip(col_nombres, dispersion)\n",
        "lista_dispersion = list(it_dispersion)\n",
        "dict_dispersion = {key: value for key, value in lista_dispersion}\n",
        "df_dispersion = pd.DataFrame(dict_dispersion, index=medidas_dispersion)\n",
        "\n",
        "# print(lista_dispersion)\n",
        "\n",
        "df_dispersion"
      ],
      "metadata": {
        "id": "AFmfjpTVzcr8"
      },
      "execution_count": null,
      "outputs": []
    },
    {
      "cell_type": "code",
      "source": [
        "filtered_data = dc[dc['profile_studies_level'].isin(['Universitario', 'Terciario'])]\n",
        "\n",
        "universitario = filtered_data[filtered_data['profile_studies_level'] == 'Universitario']['salary_monthly_NETO']\n",
        "terciario = filtered_data[filtered_data['profile_studies_level'] == 'Terciario']['salary_monthly_NETO']\n",
        "universitario_mean = universitario.mean()\n",
        "terciario_mean = terciario.mean()\n",
        "\n",
        "u, pval = st.mannwhitneyu(universitario, terciario)\n",
        "\n",
        "\n",
        "pooled_std = np.sqrt(((universitario.var() + terciario.var()) / 2))\n",
        "\n",
        "hedges_d = (universitario_mean - terciario_mean) / pooled_std\n",
        "\n",
        "print(\"Estadístico U:\", u)\n",
        "print(\"p-value:\", pval)\n",
        "print(\"Hedges' d:\", hedges_d)"
      ],
      "metadata": {
        "id": "z799CMJmGZq3"
      },
      "execution_count": null,
      "outputs": []
    },
    {
      "cell_type": "markdown",
      "metadata": {
        "id": "u8wgYxNiqVpE"
      },
      "source": [
        "### d) Densidad Conjunta condicional\n",
        "\n",
        "Elija dos variables numéricas y una categórica.\n",
        "Estudie la dispersión (scatterplot) de las dos variables discriminando en color por la variable categórica (ayuda: hue en seaborn)\n"
      ]
    },
    {
      "cell_type": "markdown",
      "source": [
        "RTA: Analizando las varialbes mediante el gráfico de dispercsión y la matriz de correlación, descubrimos que los años de experiencia no tienen un peso significativo en el salario de los trabajadores."
      ],
      "metadata": {
        "id": "oG6teQxd8s0T"
      }
    },
    {
      "cell_type": "code",
      "source": [
        "plt.title('Relación salario vs experiencia')\n",
        "sns.scatterplot(x=dc['salary_monthly_NETO'], y = dc['profile_years_experience'][dc['profile_years_experience'] <= 30].dropna(), hue=dc['profile_studies_level'][(dc['profile_studies_level'] == \"Universitario\") | (dc['profile_studies_level'] == 'Terciario' ) ] )\n",
        "plt.ticklabel_format(style='plain', axis='x')\n",
        "sns.despine()"
      ],
      "metadata": {
        "id": "nHnGYr_QvqPT"
      },
      "execution_count": null,
      "outputs": []
    },
    {
      "cell_type": "code",
      "source": [
        "filtered_data = dc.loc[(dc['profile_studies_level'] == \"Universitario\") | (dc['profile_studies_level'] == 'Terciario' ) ]\n",
        "matcov = np.cov(filtered_data['salary_monthly_NETO'], filtered_data['profile_years_experience'])\n",
        "corr = np.corrcoef(filtered_data['salary_monthly_NETO'], filtered_data['profile_years_experience'])\n",
        "print('matriz de correlaciones: \\n ', corr,'\\n')\n",
        "\n",
        "print('correlación entra ambas variables: ',corr[0,1],'\\n')"
      ],
      "metadata": {
        "id": "I8nbOt1PwvN5"
      },
      "execution_count": null,
      "outputs": []
    },
    {
      "cell_type": "code",
      "source": [
        "filtered_data2 = dc.loc[(dc['profile_studies_level'] == \"Universitario\")]\n",
        "matcov = np.cov(filtered_data2['salary_monthly_NETO'], filtered_data2['profile_years_experience'])\n",
        "corr = np.corrcoef(filtered_data2['salary_monthly_NETO'], filtered_data2['profile_years_experience'])\n",
        "print('matriz de correlaciones: \\n ', corr,'\\n')\n",
        "\n",
        "print('correlación entra ambas variables: ',corr[0,1],'\\n')"
      ],
      "metadata": {
        "id": "x3coEqivyFwx"
      },
      "execution_count": null,
      "outputs": []
    },
    {
      "cell_type": "code",
      "source": [
        "filtered_data2 = dc.loc[(dc['profile_studies_level'] == \"Terciario\")]\n",
        "matcov = np.cov(filtered_data2['salary_monthly_NETO'], filtered_data2['profile_years_experience'])\n",
        "corr = np.corrcoef(filtered_data2['salary_monthly_NETO'], filtered_data2['profile_years_experience'])\n",
        "print('matriz de correlaciones: \\n ', corr,'\\n')\n",
        "\n",
        "print('correlación entra ambas variables: ',corr[0,1],'\\n')"
      ],
      "metadata": {
        "id": "72p2S9vZMXZb"
      },
      "execution_count": null,
      "outputs": []
    }
  ]
}